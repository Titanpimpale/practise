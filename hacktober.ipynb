{
  "nbformat": 4,
  "nbformat_minor": 0,
  "metadata": {
    "colab": {
      "provenance": []
    },
    "kernelspec": {
      "name": "python3",
      "display_name": "Python 3"
    },
    "language_info": {
      "name": "python"
    }
  },
  "cells": [
    {
      "cell_type": "code",
      "source": [
        "!pip install pyfiglet termcolor"
      ],
      "metadata": {
        "colab": {
          "base_uri": "https://localhost:8080/"
        },
        "id": "bDUOprx2k0Ju",
        "outputId": "9a0727e3-6139-480a-c106-b98103a069ec"
      },
      "execution_count": 2,
      "outputs": [
        {
          "output_type": "stream",
          "name": "stdout",
          "text": [
            "Collecting pyfiglet\n",
            "  Downloading pyfiglet-1.0.2-py3-none-any.whl (1.1 MB)\n",
            "\u001b[2K     \u001b[90m━━━━━━━━━━━━━━━━━━━━━━━━━━━━━━━━━━━━━━━━\u001b[0m \u001b[32m1.1/1.1 MB\u001b[0m \u001b[31m6.4 MB/s\u001b[0m eta \u001b[36m0:00:00\u001b[0m\n",
            "\u001b[?25hRequirement already satisfied: termcolor in /usr/local/lib/python3.10/dist-packages (2.3.0)\n",
            "Installing collected packages: pyfiglet\n",
            "Successfully installed pyfiglet-1.0.2\n"
          ]
        }
      ]
    },
    {
      "cell_type": "code",
      "source": [
        "import pyfiglet\n",
        "import termcolor\n",
        "\n",
        "def print_hacktober_anniversary():\n",
        "    text = \"Happy 10th Anniversary Hacktober\"\n",
        "    ascii_art = pyfiglet.figlet_format(text, font=\"starwars\")\n",
        "\n",
        "    colored_ascii_art = termcolor.colored(ascii_art, color=\"yellow\")\n",
        "\n",
        "    print(colored_ascii_art)\n",
        "\n",
        "if __name__ == \"__main__\":\n",
        "    print_hacktober_anniversary()\n"
      ],
      "metadata": {
        "colab": {
          "base_uri": "https://localhost:8080/"
        },
        "id": "s3I6bBYpk1_e",
        "outputId": "48d4eebc-6089-4ed1-9dab-ed239ddf0a97"
      },
      "execution_count": 3,
      "outputs": [
        {
          "output_type": "stream",
          "name": "stdout",
          "text": [
            " __    __       ___      .______   .______   ____    ____ \n",
            "|  |  |  |     /   \\     |   _  \\  |   _  \\  \\   \\  /   / \n",
            "|  |__|  |    /  ^  \\    |  |_)  | |  |_)  |  \\   \\/   /  \n",
            "|   __   |   /  /_\\  \\   |   ___/  |   ___/    \\_    _/   \n",
            "|  |  |  |  /  _____  \\  |  |      |  |          |  |     \n",
            "|__|  |__| /__/     \\__\\ | _|      | _|          |__|     \n",
            "                                                          \n",
            " __    ___   .___________. __    __  \n",
            "/_ |  / _ \\  |           ||  |  |  | \n",
            " | | | | | | `---|  |----`|  |__|  | \n",
            " | | | | | |     |  |     |   __   | \n",
            " | | | |_| |     |  |     |  |  |  | \n",
            " |_|  \\___/      |__|     |__|  |__| \n",
            "                                     \n",
            "     ___      .__   __. .__   __.  __  ____    ____  _______ .______      \n",
            "    /   \\     |  \\ |  | |  \\ |  | |  | \\   \\  /   / |   ____||   _  \\     \n",
            "   /  ^  \\    |   \\|  | |   \\|  | |  |  \\   \\/   /  |  |__   |  |_)  |    \n",
            "  /  /_\\  \\   |  . `  | |  . `  | |  |   \\      /   |   __|  |      /     \n",
            " /  _____  \\  |  |\\   | |  |\\   | |  |    \\    /    |  |____ |  |\\  \\----.\n",
            "/__/     \\__\\ |__| \\__| |__| \\__| |__|     \\__/     |_______|| _| `._____|\n",
            "                                                                          \n",
            "     _______.     ___      .______     ____    ____ \n",
            "    /       |    /   \\     |   _  \\    \\   \\  /   / \n",
            "   |   (----`   /  ^  \\    |  |_)  |    \\   \\/   /  \n",
            "    \\   \\      /  /_\\  \\   |      /      \\_    _/   \n",
            ".----)   |    /  _____  \\  |  |\\  \\----.   |  |     \n",
            "|_______/    /__/     \\__\\ | _| `._____|   |__|     \n",
            "                                                    \n",
            " __    __       ___       ______  __  ___ .___________.  ______   .______   \n",
            "|  |  |  |     /   \\     /      ||  |/  / |           | /  __  \\  |   _  \\  \n",
            "|  |__|  |    /  ^  \\   |  ,----'|  '  /  `---|  |----`|  |  |  | |  |_)  | \n",
            "|   __   |   /  /_\\  \\  |  |     |    <       |  |     |  |  |  | |   _  <  \n",
            "|  |  |  |  /  _____  \\ |  `----.|  .  \\      |  |     |  `--'  | |  |_)  | \n",
            "|__|  |__| /__/     \\__\\ \\______||__|\\__\\     |__|      \\______/  |______/  \n",
            "                                                                            \n",
            " _______ .______      \n",
            "|   ____||   _  \\     \n",
            "|  |__   |  |_)  |    \n",
            "|   __|  |      /     \n",
            "|  |____ |  |\\  \\----.\n",
            "|_______|| _| `._____|\n",
            "                      \n",
            "\n"
          ]
        }
      ]
    }
  ]
}